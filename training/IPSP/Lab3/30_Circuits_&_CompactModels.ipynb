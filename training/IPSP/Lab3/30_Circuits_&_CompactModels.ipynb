{
 "cells": [
  {
   "cell_type": "markdown",
   "metadata": {},
   "source": [
    "![PIC UPV PERTE Chip Chair Logo](https://www.pic-chair.upv.es/wp-content/uploads/2024/05/logo-upv-horizontal.png)\n",
    "![PIC UPV PERTE Chip Chair Logo](https://www.pic-chair.upv.es/wp-content/uploads/2024/06/logos-perte-chip-1024x119.png)\n",
    "\n",
    "# Laboratory 3. Circuits and Compact Models"
   ]
  },
  {
   "cell_type": "markdown",
   "metadata": {},
   "source": [
    " ## 0.1 Import libraries"
   ]
  },
  {
   "cell_type": "code",
   "execution_count": null,
   "metadata": {},
   "outputs": [],
   "source": [
    "import numpy as np\n",
    "import matplotlib.pyplot as plt\n",
    "from matplotlib.pyplot import cm\n",
    "\n",
    "import logging\n",
    "import sys\n",
    "from functools import partial\n",
    "from pprint import pprint\n",
    "\n",
    "import gdsfactory as gf\n",
    "import jax\n",
    "import jax.example_libraries.optimizers as opt\n",
    "import jax.numpy as jnp\n",
    "import matplotlib.pyplot as plt\n",
    "import numpy as np\n",
    "import sax\n",
    "from gdsfactory.generic_tech import get_generic_pdk\n",
    "from numpy.fft import fft2, fftfreq, fftshift, ifft2\n",
    "from rich.logging import RichHandler\n",
    "from scipy import constants\n",
    "from sklearn.linear_model import LinearRegression\n",
    "from tqdm.notebook import trange\n",
    "from scipy.constants import c as c0\n",
    "\n",
    "import gplugins.sax as gs\n",
    "import gplugins.tidy3d as gt\n",
    "from gplugins.common.config import PATH\n",
    "\n",
    "logger = logging.getLogger()\n",
    "logger.removeHandler(sys.stderr)\n",
    "logging.basicConfig(level=\"WARNING\", datefmt=\"[%X]\", handlers=[RichHandler()])"
   ]
  },
  {
   "cell_type": "markdown",
   "metadata": {},
   "source": [
    "## 0.2 Compact Models for simulations"
   ]
  },
  {
   "cell_type": "markdown",
   "metadata": {},
   "source": [
    "### 0.2.1. Waveguide compact model (Lab1. LO4)\n",
    "\n",
    "We start from the waveguide's effective index second degree polynomial:\n",
    "\n",
    "$$\n",
    "n_\\mathrm{eff}(\\lambda)\n",
    "= n_{1} + n_{2}\\,(\\lambda-\\lambda_{0}) + n_{3}\\,(\\lambda-\\lambda_{0})^{2}\n",
    "$$\n",
    "\n",
    "Or from the parameters derived from the polynomial coefficients: \n",
    " \n",
    "$$\n",
    "n_\\mathrm{eff}(\\lambda_0) = n_1~ ;~ n_g(\\lambda_0) = n_1 - n_2\\,\\lambda_0~;~ D = -\\frac{2\\,\\lambda_0\\,n_3}{c}\\;\\;[\\mathrm{s}^2/\\mathrm{m}]\n",
    "$$\n",
    "\n",
    "The transmmission through the waveguide should be modeled as: \n",
    "\n",
    "$$\n",
    "H(\\lambda)\n",
    "= e^{-j\\,\\beta(\\lambda)\\,z}\n",
    "= e^{-j\\,\\mathrm{Re}\\{\\beta(\\lambda)\\}\\,z}\\,\n",
    "  e^{\\mathrm{Im}\\{\\beta(\\lambda)\\}\\,z}.\n",
    "$$\n",
    "With  \n",
    "$$\n",
    "\\beta(\\lambda)\n",
    "= \\frac{2\\pi}{\\lambda}\\,\\mathrm{Re}\\{n_\\mathrm{eff}(\\lambda)\\}.\n",
    "$$\n",
    "\n",
    "We are going to use [SAX](https://pypi.org/project/sax/), a scatter parameter circuit simulator, to implement simulations in the frequency (wavelength) domain. The following cell demonstrates how to define the most basic component transfer function: "
   ]
  },
  {
   "cell_type": "code",
   "execution_count": null,
   "metadata": {},
   "outputs": [],
   "source": [
    "# The model should be a Python function that takes as input the relevant parameters\n",
    "# (e.g., wavelength, effective index, length, loss) and returns a SAX SDict representing\n",
    "# the waveguide's S-parameters.\n",
    "# Parameters:\n",
    "# wl: Wavelength to simulate (um)\n",
    "# wl0: Reference wavelength - where you calculated the group index and dispersion (um))\n",
    "# neff: Effective index at the reference wavelength (au)\n",
    "# ng: Group index (au)\n",
    "# length: Length of the waveguide in micrometers (um)\n",
    "# loss: Propagation loss in dB/um (Experimental value)\n",
    "# D: Dispersion parameter (s^2/m)\n",
    "def waveguide(wl=1.55, wl0=1.55, neff=1.6072, ng=2.0, length=10.0, loss=0.0, D=0) -> sax.SDict:\n",
    "    dwl = wl - wl0\n",
    "    n1 = neff\n",
    "    n2 = (n1-ng)/wl0\n",
    "    n3 = -D*c0/(2*wl0)\n",
    "    neff = n1 + n2*dwl + n3*dwl**2\n",
    "    phase = 2 * jnp.pi * neff * length / wl\n",
    "    transmission = 10 ** (-loss * length / 20) * jnp.exp(1j * phase)\n",
    "    wg_dict = sax.reciprocal(\n",
    "        {\n",
    "            (\"in0\", \"out0\"): transmission,\n",
    "        }\n",
    "    )\n",
    "    return wg_dict"
   ]
  },
  {
   "cell_type": "markdown",
   "metadata": {},
   "source": [
    "### 0.2.2. Coupler compact model (Lab2 LO6)\n",
    "\n",
    "We can start with the ideal coupler transfer function. You can then update your model with the parameters you found in your Laboratory 2. The model we are going to implement does not take into account if the coupler is an MMI or a Directional Coupler, it just use as parameters the coupling coefficient to calculate the output power at each port. \n",
    "\n",
    "$$\n",
    "\\begin{pmatrix}\n",
    "E_{o1}\\\\\n",
    "E_{o2}\n",
    "\\end{pmatrix}\n",
    "=\n",
    "\\begin{pmatrix}\n",
    "\\sqrt{1-K} & -\\mathrm{j}\\sqrt{K}\\\\\n",
    "-\\mathrm{j}\\sqrt{K} & \\sqrt{1-K}\n",
    "\\end{pmatrix}\n",
    "\\begin{pmatrix}\n",
    "E_{i1}\\\\\n",
    "E_{i2}\n",
    "\\end{pmatrix}\n",
    "$$"
   ]
  },
  {
   "cell_type": "code",
   "execution_count": null,
   "metadata": {},
   "outputs": [],
   "source": [
    "# Coupler Model\n",
    "# We define again the Python function for the coupler compact model.\n",
    "# Parameters:\n",
    "# coupling: Coupling coefficient (between 0 and 1)\n",
    "# You MUST update the model with the parameters you found in your Laboratory 2: \n",
    "# Excess loss, actual phase shift.\n",
    "def coupler(coupling=0.5) -> sax.SDict:\n",
    "    kappa = coupling**0.5\n",
    "    tau = (1 - coupling) ** 0.5\n",
    "    # The coupler is a reciprocal device, so we use sax.reciprocal to create the SDict\n",
    "    # (reciprocal device means it behaves the same way in both directions)\n",
    "    coupler_dict = sax.reciprocal(\n",
    "        {\n",
    "            (\"in0\", \"out0\"): tau,\n",
    "            (\"in0\", \"out1\"): kappa * np.exp(-1j * np.pi / 2.0),\n",
    "            (\"in1\", \"out0\"): kappa * np.exp(-1j * np.pi / 2.0),\n",
    "            (\"in1\", \"out1\"): tau,\n",
    "        }\n",
    "    )\n",
    "    return coupler_dict\n"
   ]
  },
  {
   "cell_type": "markdown",
   "metadata": {},
   "source": [
    "## LO.1. Mach - Zehnder Interferometer"
   ]
  },
  {
   "cell_type": "markdown",
   "metadata": {},
   "source": [
    "### 1.1. MZI Circuit Model\n",
    "\n",
    "Using SAX library, we can now define the components, connections and models needed to build our circuit. Let's start with the MZI: \n",
    "\n",
    "<img src=\"mzi.png\" alt=\"mzi circuit\" width=\"600\">\n",
    "\n",
    "We will need two couplers and two waveguides: \n"
   ]
  },
  {
   "cell_type": "code",
   "execution_count": null,
   "metadata": {},
   "outputs": [],
   "source": [
    "# MZI Circuit\n",
    "# We will define instances, connections and ports for the MZI circuit using the SAX library.\n",
    "# We will use the coupler and waveguide models defined above.\n",
    "mzi, info = sax.circuit(\n",
    "    netlist={\n",
    "        # Define instances of couplers and waveguides\n",
    "        \"instances\": {\n",
    "            \"coup_E\": \"coupler\",\n",
    "            \"wvg_N\": \"waveguide\",\n",
    "            \"wvg_S\": \"waveguide\",\n",
    "            \"coup_W\": \"coupler\",\n",
    "        },\n",
    "        # Define connections between the instances\n",
    "        \"connections\": {\n",
    "            \"coup_E,out0\": \"wvg_S,in0\",\n",
    "            \"wvg_S,out0\": \"coup_W,in0\",\n",
    "            \"coup_E,out1\": \"wvg_N,in0\",\n",
    "            \"wvg_N,out0\": \"coup_W,in1\",\n",
    "        },\n",
    "        # Define the external ports of the MZI circuit\n",
    "        \"ports\": {\n",
    "            \"in0\": \"coup_E,in0\",\n",
    "            \"in1\": \"coup_E,in1\",\n",
    "            \"out0\": \"coup_W,out0\",\n",
    "            \"out1\": \"coup_W,out1\",\n",
    "        },\n",
    "    },\n",
    "    # Important! Provide here the models for the components used in the circuit\n",
    "    # Here we use the coupler and waveguide functions defined above\n",
    "    models={\n",
    "        \"coupler\": coupler,\n",
    "        \"waveguide\": waveguide,\n",
    "    },\n",
    ")\n"
   ]
  },
  {
   "cell_type": "markdown",
   "metadata": {},
   "source": [
    "Using this circuit model, it is possible now to perform simulations to obtain the MZI response:"
   ]
  },
  {
   "cell_type": "code",
   "execution_count": null,
   "metadata": {},
   "outputs": [],
   "source": [
    "# Wavelengths to simulate\n",
    "wl = jnp.linspace(1.50, 1.60, 1000)\n",
    "\n",
    "# Length values to simulate. We have a base length and we will vary the length of one arm using delta_l_v\n",
    "delta_l_v = np.array([20,]) \n",
    "l_base = 10.0\n",
    "\n",
    "# Testbench\n",
    "mzi_test = []\n",
    "\n",
    "n_curves = np.shape(delta_l_v)[0]\n",
    "color = cm.rainbow(np.linspace(0, 1, n_curves))\n",
    "\n",
    "fig, ax = plt.subplots(2,1)\n",
    "for i, delta_l in enumerate(delta_l_v):\n",
    "    # Simulate MZI with given length difference\n",
    "    # We can access the waveguide lengths by using the instance names defined in the circuit\n",
    "    # First we instantiate the MZI with the desired lengths\n",
    "    mzi_test = mzi(wl=wl, wvg_S={\"length\": l_base}, wvg_N={\"length\": l_base+delta_l})\n",
    "    # Then we can extract the S-parameters using the port names defined in the circuit\n",
    "    H00 = mzi_test[\"in0\", \"out0\"]\n",
    "    H01 = mzi_test[\"in0\", \"out1\"]\n",
    "\n",
    "    H00_dB = 20.0*jnp.log10(np.abs(H00) ** 2)\n",
    "    H01_dB = 20.0*jnp.log10(np.abs(H01) ** 2)\n",
    "\n",
    "    ax[0].plot(wl * 1e3, np.abs(H00)**2, linestyle=\"-\", color=color[i], label=f\"H00, dL = {delta_l:.2f} nm\")\n",
    "    ax[0].plot(wl * 1e3, np.abs(H01)**2, linestyle=\"--\", color=color[i], label=f\"H01, dL = {delta_l:.2f} nm\")\n",
    "\n",
    "    ax[1].plot(wl * 1e3, H00_dB, linestyle=\"-\", color=color[i], label=f\"H00, dL = {delta_l:.2f} nm\")\n",
    "    ax[1].plot(wl * 1e3, H01_dB, linestyle=\"--\", color=color[i], label=f\"H01, dL = {delta_l:.2f} nm\")\n",
    "\n",
    "for i in range(0,2):\n",
    "    ax[i].grid(visible=True)\n",
    "    ax[i].legend(fontsize=8)\n",
    "    ax[i].set_xlabel(\"λ [nm]\")\n",
    "    ax[i].legend(loc='upper left', bbox_to_anchor=(1, 1))\n",
    "\n",
    "ax[0].set_ylabel(\"|H|^2 [lin]\")\n",
    "ax[1].set_ylabel(\"|H|^2 [dB]\")"
   ]
  },
  {
   "cell_type": "markdown",
   "metadata": {},
   "source": [
    "The resulting interference pattern allows us to determine the **free spectral range** (FSR). By locating two adjacent notches in the transfer function, the difference between their wavelengths gives the FSR, which satisfies:\n",
    "\n",
    "$$\n",
    "\\Delta\\lambda_{\\mathrm{FSR}}\n",
    "= \\frac{\\lambda^{2}}{n_g(\\lambda)\\,\\Delta L}\n",
    "$$\n",
    "\n",
    "You can use this code section with certain variations for LO1a,1b,2 and 3."
   ]
  },
  {
   "cell_type": "markdown",
   "metadata": {},
   "source": [
    "## LO.4. Ring Resonators."
   ]
  },
  {
   "cell_type": "markdown",
   "metadata": {},
   "source": [
    "### 1.1. Ring Resonator Circuit Models\n",
    "\n",
    "We can implement two different variations for the Ring Resonator. The simple ring that consist of a coupler connected with a waveguide (ring_ap), and the double bus ring that needs an extra coupler and the corresponding waveguides to make connections between them (ring_2bus): \n",
    "\n",
    "<img src=\"rings.png\" alt=\"mzi circuit\" width=\"600\">\n"
   ]
  },
  {
   "cell_type": "markdown",
   "metadata": {},
   "source": [
    "#### 1.1.1. Ring coupled to a single waveguide\n",
    "\n",
    "We define one circuit per design variation. "
   ]
  },
  {
   "cell_type": "code",
   "execution_count": null,
   "metadata": {},
   "outputs": [],
   "source": [
    "ring_ap, info = sax.circuit(\n",
    "    netlist={\n",
    "        \"instances\": {\n",
    "            \"coup\": \"coupler\",\n",
    "            \"wvg_ring\": \"waveguide\",\n",
    "        },\n",
    "        \"connections\": {\n",
    "            \"coup,out1\": \"wvg_ring,in0\",\n",
    "            \"wvg_ring,out0\": \"coup,in1\",\n",
    "        },\n",
    "        \"ports\": {\n",
    "            \"in0\": \"coup,in0\",\n",
    "            \"out0\": \"coup,out0\"\n",
    "        },\n",
    "    },\n",
    "    models={\n",
    "        \"coupler\": coupler,\n",
    "        \"waveguide\": waveguide,\n",
    "    },\n",
    ")"
   ]
  },
  {
   "cell_type": "markdown",
   "metadata": {},
   "source": [
    "Then we can test the circuit to check the functionality"
   ]
  },
  {
   "cell_type": "code",
   "execution_count": null,
   "metadata": {},
   "outputs": [],
   "source": [
    "# Wavelengths to simulate\n",
    "wl = jnp.linspace(1.50, 1.60, 10000)\n",
    "\n",
    "# Length value to simulate. This is the length of the ring waveguide\n",
    "delta_l_v = np.array([50,]) \n",
    "\n",
    "# Coupling coefficient of the input/output coupler\n",
    "coupling = 0.5\n",
    "\n",
    "n_curves = np.shape(delta_l_v)[0]\n",
    "color = cm.rainbow(np.linspace(0, 1, n_curves))\n",
    "\n",
    "fig, ax = plt.subplots(2,1)\n",
    "for i, delta_l in enumerate(delta_l_v):\n",
    "    # Here we instantiate the ring resonator with the desired ring length\n",
    "    # Update this line if you desire to simulate different losses or coupling coefficients\n",
    "    ring_ap_test = ring_ap(wl=wl, wvg_ring={\"length\": delta_l, \"loss\": 0.02}, coup={\"coupling\": coupling})\n",
    "    T = ring_ap_test[\"in0\", \"out0\"]\n",
    "\n",
    "    T_dB = 20.0*jnp.log10(np.abs(T) ** 2)\n",
    "\n",
    "    ax[0].plot(wl * 1e3, np.abs(T)**2, linestyle=\"-\", color=color[i], label=f\"T, dL = {delta_l:.2f} nm\")\n",
    "\n",
    "    ax[1].plot(wl * 1e3, T_dB, linestyle=\"-\", color=color[i], label=f\"T, dL = {delta_l:.2f} nm\")\n",
    "\n",
    "ax[0].set_ylim([-0.2,1.2])\n",
    "for i in range(0,2):\n",
    "    ax[i].grid(visible=True)\n",
    "    ax[i].legend(fontsize=8)\n",
    "    ax[i].set_xlabel(\"λ [nm]\")\n",
    "    ax[i].legend(loc='upper left', bbox_to_anchor=(1, 1))\n",
    "ax[1].set_ylim([-60,5])\n",
    "\n",
    "ax[0].set_ylabel(\"|H|^2 [lin]\")\n",
    "ax[1].set_ylabel(\"|H|^2 [dB]\")"
   ]
  },
  {
   "cell_type": "markdown",
   "metadata": {},
   "source": [
    "#### 1.1.2. Ring coupled to two waveguides"
   ]
  },
  {
   "cell_type": "markdown",
   "metadata": {},
   "source": [
    "For this design variation, the ring perimeter is divided into two straight sections that connect both couplers"
   ]
  },
  {
   "cell_type": "code",
   "execution_count": null,
   "metadata": {},
   "outputs": [],
   "source": [
    "ring_2bus, info = sax.circuit(\n",
    "    netlist={\n",
    "        \"instances\": {\n",
    "            \"wvg_S_in\": \"waveguide\",\n",
    "            \"wvg_S_out\": \"waveguide\",\n",
    "            \"coup_S\": \"coupler\",\n",
    "            \"wvg_ring_E\": \"waveguide\",\n",
    "            \"wvg_ring_W\": \"waveguide\",\n",
    "            \"coup_N\": \"coupler\",\n",
    "            \"wvg_N_in\": \"waveguide\",\n",
    "            \"wvg_N_out\": \"waveguide\",\n",
    "        },\n",
    "        \"connections\": {\n",
    "            \"wvg_S_in,out0\": \"coup_S,in0\",\n",
    "            \"coup_S,out0\": \"wvg_S_out,in0\",\n",
    "            \"coup_S,out1\": \"wvg_ring_E,in0\",\n",
    "            \"wvg_ring_E,out0\": \"coup_N,in1\",\n",
    "            \"coup_N,out1\": \"wvg_ring_W,in0\",\n",
    "            \"wvg_ring_W,out0\": \"coup_S,in1\",\n",
    "            \"wvg_N_in,out0\": \"coup_N,in0\",\n",
    "            \"coup_N,out0\": \"wvg_N_out,in0\",\n",
    "        },\n",
    "        \"ports\": {\n",
    "            \"in0\": \"wvg_S_in,in0\",\n",
    "            \"out0\": \"wvg_S_out,out0\",\n",
    "            \"in1\": \"wvg_N_in,in0\",\n",
    "            \"out1\": \"wvg_N_out,out0\",\n",
    "        },\n",
    "    },\n",
    "    models= {\n",
    "        \"coupler\": coupler,\n",
    "        \"waveguide\": waveguide,\n",
    "    },\n",
    ")"
   ]
  },
  {
   "cell_type": "markdown",
   "metadata": {},
   "source": [
    "Test the circuit to check the functionality"
   ]
  },
  {
   "cell_type": "code",
   "execution_count": null,
   "metadata": {},
   "outputs": [],
   "source": [
    "wl = jnp.linspace(1.50, 1.60, 1000)\n",
    "\n",
    "delta_l_v = np.array([50,]) \n",
    "\n",
    "n_curves = np.shape(delta_l_v)[0]\n",
    "color = cm.rainbow(np.linspace(0, 1, n_curves))\n",
    "\n",
    "fig, ax = plt.subplots(2,1)\n",
    "for i, delta_l in enumerate(delta_l_v):\n",
    "    # ring_2bus_test = ring_2bus(wl=wl, wvg_ring_E={\"length\": 0.5*delta_l}, wvg_ring_W={\"length\": 0.5*delta_l, \"loss\": 2.0}, coup_N={\"coupling\": 0.0})\n",
    "    ring_2bus_test = ring_2bus(wl=wl, wvg_ring_E={\"length\": 0.5*delta_l}, wvg_ring_W={\"length\": 0.5*delta_l})\n",
    "    H00 = ring_2bus_test[\"in0\", \"out0\"]\n",
    "    H01 = ring_2bus_test[\"in0\", \"out1\"]\n",
    "\n",
    "    H00_dB = 20.0*jnp.log10(np.abs(H00) ** 2)\n",
    "    H01_dB = 20.0*jnp.log10(np.abs(H01) ** 2)\n",
    "\n",
    "    ax[0].plot(wl * 1e3, np.abs(H00)**2, linestyle=\"-\", color=color[i], label=f\"H00, dL = {delta_l:.2f} nm\")\n",
    "    ax[0].plot(wl * 1e3, np.abs(H01)**2, linestyle=\"--\", color=color[i], label=f\"H01, dL = {delta_l:.2f} nm\")\n",
    "\n",
    "    ax[1].plot(wl * 1e3, H00_dB, linestyle=\"-\", color=color[i], label=f\"H00, dL = {delta_l:.2f} nm\")\n",
    "    ax[1].plot(wl * 1e3, H01_dB, linestyle=\"--\", color=color[i], label=f\"H01, dL = {delta_l:.2f} nm\")\n",
    "\n",
    "for i in range(0,2):\n",
    "    ax[i].grid(visible=True)\n",
    "    ax[i].legend(fontsize=8)\n",
    "    ax[i].set_xlabel(\"λ [nm]\")\n",
    "    ax[i].legend(loc='upper left', bbox_to_anchor=(1, 1))\n",
    "\n",
    "ax[0].set_ylabel(\"|H|^2 [lin]\")\n",
    "ax[1].set_ylabel(\"|H|^2 [dB]\")\n"
   ]
  },
  {
   "cell_type": "markdown",
   "metadata": {},
   "source": [
    "The resulting interference pattern again exhibits a periodic behavior. We define again the **free spectral range** (FSR), which should satisfy in this case the relationship:\n",
    "\n",
    "$$\n",
    "\\Delta\\lambda_{\\mathrm{FSR}}\n",
    "= \\frac{\\lambda^{2}}{n_g(\\lambda)\\,L_r}\n",
    "$$\n",
    "\n",
    "Where $L_r$ is the ring perimeter. Note that in our circuit model, we neglect the length of the coupler, so the perimeter is defined by the length of the waveguide sections."
   ]
  },
  {
   "cell_type": "markdown",
   "metadata": {},
   "source": [
    "#### **HINT**\n",
    "\n",
    "You can perform parametric variations using the codes provided by us, for instance, check this casi in which we performed a loss sweep. "
   ]
  },
  {
   "cell_type": "code",
   "execution_count": null,
   "metadata": {},
   "outputs": [],
   "source": [
    "# We change the wavelength range to \"zoom in\" into a resonance\n",
    "wl = jnp.linspace(1.545, 1.5475, 1000)\n",
    "\n",
    "# Now we perform a loss sweep\n",
    "loss_dBum = 1e-4*np.array([0,1,2,4,10])\n",
    "\n",
    "n_curves = np.shape(loss_dBum)[0]\n",
    "color = cm.rainbow(np.linspace(0, 1, n_curves))\n",
    "\n",
    "ring_perimeter = 75.0\n",
    "coupling = 0.025\n",
    "\n",
    "fig, ax = plt.subplots(2,1)\n",
    "#Update the variable you enumarate below\n",
    "for i, loss in enumerate(loss_dBum):\n",
    "    # Link the variable you want to sweep in the line below\n",
    "    ring_ap_test = ring_ap(wl=wl, wvg_ring={\"length\": ring_perimeter, \"loss\": loss}, coup={\"coupling\": coupling})\n",
    "    T = ring_ap_test[\"in0\", \"out0\"]\n",
    "\n",
    "    T_dB = 20.0*jnp.log10(np.abs(T) ** 2)\n",
    "\n",
    "    ax[0].plot(wl * 1e3, np.abs(T)**2, linestyle=\"-\", color=color[i], label=f\"T, alpha = {1e4*loss:.2f} dB/cm\")\n",
    "\n",
    "    ax[1].plot(wl * 1e3, T_dB, linestyle=\"-\", color=color[i], label=f\"T, alpha = {1e4*loss:.2f} dB/cm\")\n",
    "\n",
    "ax[0].set_ylim([-0.2,1.2])\n",
    "for i in range(0,2):\n",
    "    ax[i].grid(visible=True)\n",
    "    ax[i].legend(fontsize=8)\n",
    "    ax[i].set_xlabel(\"λ [nm]\")\n",
    "    ax[i].legend(loc='upper left', bbox_to_anchor=(1, 1))\n",
    "ax[1].set_ylim([-60,5])\n",
    "\n",
    "ax[0].set_ylabel(\"|H|^2 [lin]\")\n",
    "ax[1].set_ylabel(\"|H|^2 [dB]\")"
   ]
  },
  {
   "cell_type": "markdown",
   "metadata": {},
   "source": [
    "Now use this code section to obtain the results of LOs4, 5, and 6."
   ]
  }
 ],
 "metadata": {
  "kernelspec": {
   "display_name": "pdk_UPVfab_v2",
   "language": "python",
   "name": "python3"
  },
  "language_info": {
   "codemirror_mode": {
    "name": "ipython",
    "version": 3
   },
   "file_extension": ".py",
   "mimetype": "text/x-python",
   "name": "python",
   "nbconvert_exporter": "python",
   "pygments_lexer": "ipython3",
   "version": "3.12.9"
  }
 },
 "nbformat": 4,
 "nbformat_minor": 2
}
