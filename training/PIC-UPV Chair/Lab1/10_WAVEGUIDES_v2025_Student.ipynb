{
 "cells": [
  {
   "cell_type": "markdown",
   "metadata": {},
   "source": [
    "![PIC UPV PERTE Chip Chair Logo](https://www.pic-chair.upv.es/wp-content/uploads/2024/05/logo-upv-horizontal.png)\n",
    "![PIC UPV PERTE Chip Chair Logo](https://www.pic-chair.upv.es/wp-content/uploads/2024/06/logos-perte-chip-1024x119.png)\n",
    "\n",
    "\n",
    "# Laboratory 1.0. Waveguides"
   ]
  },
  {
   "cell_type": "markdown",
   "metadata": {},
   "source": [
    "## 0. Imports"
   ]
  },
  {
   "cell_type": "code",
   "execution_count": null,
   "metadata": {},
   "outputs": [],
   "source": [
    "import matplotlib.pyplot as plt\n",
    "import numpy as np\n",
    "\n",
    "import tidy3d as td\n",
    "\n",
    "import gplugins as gp\n",
    "import gplugins.tidy3d as gt\n",
    "from gplugins import plot\n",
    "from gplugins.common.config import PATH\n",
    "\n",
    "nm = 1e-3\n",
    "wavelength = np.linspace(1500, 1600) * nm\n",
    "f = td.C_0 / wavelength"
   ]
  },
  {
   "cell_type": "code",
   "execution_count": null,
   "metadata": {},
   "outputs": [],
   "source": [
    "nitride_complex = td.material_library[\"Si3N4\"][\"Luke2015PMLStable\"].eps_model(f)\n",
    "nitride_index, nitride_k = td.Medium.eps_complex_to_nk(nitride_complex)\n",
    "box_complex = td.material_library[\"SiO2\"][\"Horiba\"].eps_model(f)\n",
    "box_index, box_k = td.Medium.eps_complex_to_nk(box_complex)"
   ]
  },
  {
   "cell_type": "markdown",
   "metadata": {},
   "source": [
    "## LO.1. Convergence tests"
   ]
  },
  {
   "cell_type": "code",
   "execution_count": null,
   "metadata": {},
   "outputs": [],
   "source": [
    "deep_waveguide = gt.modes.Waveguide(\n",
    "    # Geometrical Parameters\n",
    "    core_width=1.2, # Waveguide width\n",
    "    core_thickness=300 * nm, # Waveguide height \n",
    "    slab_thickness=0 * nm, # For shallow waveguides - Set to 0 if its a deep-etched waveguide.\n",
    "    # Materials\n",
    "    core_material='sin', #  Material of the waveguide\n",
    "    clad_material='sio2', # Surrounding material\n",
    "    # Modesolver Parameters\n",
    "    wavelength=1550 * nm, # Wavelength to simulate\n",
    "    num_modes=4, # Targeted number of modes to find \n",
    "    max_grid_scaling=1.5, # Parameters of the grid\n",
    "    grid_resolution=6, # STUDENT! Change this parameter between 5 and 150\n",
    "    cache_path='.cache/', # Important! In order to save simulation time, set your cache Path!\n",
    "    precision='double',\n",
    ")\n",
    "\n",
    "deep_waveguide.plot_grid()"
   ]
  },
  {
   "cell_type": "markdown",
   "metadata": {},
   "source": [
    "## LO.2. Mode confinement with wavelength"
   ]
  },
  {
   "cell_type": "code",
   "execution_count": null,
   "metadata": {},
   "outputs": [],
   "source": [
    "# The wavelength could be a vector also\n",
    "wavelength = ... # Student code here. Tip np.linspace()\n",
    "\n",
    "deep_waveguide = gt.modes.Waveguide(\n",
    "    wavelength=wavelength, \n",
    "    core_width=1.2, \n",
    "    slab_thickness=0.0,\n",
    "    core_material='sin',\n",
    "    clad_material='sio2',\n",
    "    core_thickness=300 * nm,\n",
    "    num_modes=4,\n",
    "    cache_path='.cache/',\n",
    "    precision='double',\n",
    "    max_grid_scaling=1.2,\n",
    "    grid_resolution=20, \n",
    ")\n",
    "\n",
    "res_neff = deep_waveguide.n_eff # In this case, the result is not just a number, is a wavelength-dependent vector\n",
    "res_te = deep_waveguide.fraction_te # Wavelength-dependent vector\n",
    "res_tm =deep_waveguide.fraction_tm # Wavelength-dependent vector\n",
    "\n",
    "res_modearea = deep_waveguide.mode_area # STUDENT! This is the mode_area parameter\n"
   ]
  },
  {
   "cell_type": "markdown",
   "metadata": {},
   "source": [
    "## LO.3. Group index calculation"
   ]
  },
  {
   "cell_type": "code",
   "execution_count": null,
   "metadata": {},
   "outputs": [],
   "source": [
    "wavelength = ... # Student code here\n",
    "\n",
    "deep_waveguide = gt.modes.Waveguide(\n",
    "    wavelength=wavelength,\n",
    "    core_width=1.2,\n",
    "    slab_thickness=0.0,\n",
    "    core_material='sin',\n",
    "    clad_material='sio2',\n",
    "    core_thickness=300 * nm,\n",
    "    num_modes=4,\n",
    "    cache_path='.cache/',\n",
    "    precision='double',\n",
    "    max_grid_scaling=1.2,\n",
    "    grid_resolution=20, \n",
    ")\n",
    "\n",
    "w = ... # Student code here\n",
    "\n",
    "sweep_neff = gt.modes.sweep_n_eff(deep_waveguide, \n",
    "                             core_width=w)\n",
    "\n",
    "plt.figure(figsize=(10, 5))\n",
    "for k in range(sweep_neff.shape[1]):\n",
    "    plt.plot(w, sweep_neff[:,k].real,label=f'Mode {k}')\n",
    "\n",
    "plt.title(\"Deep waveguide width sweep - 1550nm\")\n",
    "plt.xlabel(\"Width (um)\")\n",
    "plt.ylabel(\"neff\")\n",
    "plt.grid()\n",
    "plt.hlines(np.mean(box_index), xmin=np.min(w), xmax=np.max(w), colors='k', linestyles='dashed',label='SiO2 index')\n",
    "plt.legend(loc='upper left', bbox_to_anchor=(1, 1))\n",
    "plt.tight_layout(rect=[0, 0, 0.85, 1])\n",
    "plt.colorbar(orientation='horizontal',fraction=0.04).set_label(\"TE fraction\")"
   ]
  },
  {
   "cell_type": "markdown",
   "metadata": {},
   "source": [
    "## LO.4. Waveguide compact model"
   ]
  },
  {
   "cell_type": "code",
   "execution_count": null,
   "metadata": {},
   "outputs": [],
   "source": [
    "# STUDENT! Put your code here."
   ]
  },
  {
   "cell_type": "markdown",
   "metadata": {},
   "source": [
    "## LO.5. Bend waveguide radius vs. loss – deep"
   ]
  },
  {
   "cell_type": "code",
   "execution_count": null,
   "metadata": {},
   "outputs": [],
   "source": [
    "bend_1550 = gt.modes.Waveguide(\n",
    "    wavelength=1550 * nm,\n",
    "    core_width=1.2,\n",
    "    slab_thickness=0.0,\n",
    "    core_material='sin',\n",
    "    clad_material='sio2',\n",
    "    core_thickness=300 * nm,\n",
    "    num_modes=1,\n",
    "    cache_path='.cache/',\n",
    "    precision='double',\n",
    "    max_grid_scaling=1.2,\n",
    "    grid_resolution=30, \n",
    "    bend_radius=20, # Bend radius\n",
    ")\n",
    "\n",
    "bend_1550.plot_field(field_name=\"Ex\", \n",
    "                     mode_index=0, # Field to be plotted\n",
    "                     value='real', # Real - abs - imag\n",
    "                     cmap='coolwarm',\n",
    "                     xlim=(-1.5, 1.5), # Set the x and y limits\n",
    "                     ylim=(-0.7, 1)) "
   ]
  },
  {
   "cell_type": "code",
   "execution_count": null,
   "metadata": {},
   "outputs": [],
   "source": [
    "radii = np.arange(20.0, 120,11)\n",
    "\n",
    "mismatch = gt.modes.sweep_bend_mismatch(bend_1550, radii)\n",
    "\n",
    "plt.plot(radii, 10 * np.log10(mismatch))\n",
    "plt.title(\"Strip waveguide bend\")\n",
    "plt.xlabel(\"Radius (μm)\")\n",
    "plt.ylabel(\"Mismatch (dB)\")"
   ]
  },
  {
   "cell_type": "code",
   "execution_count": null,
   "metadata": {},
   "outputs": [],
   "source": [
    "dB_cm = 1.5  # dB/cm Technology loss - \n",
    "length = 0.5 * np.pi * radii * 1e-6\n",
    "propagation_loss = dB_cm * length * 1e2\n",
    "propagation_loss\n",
    "\n",
    "plt.title(\"Bend loss for TE polarization\")\n",
    "plt.plot(radii, -10 * np.log10(mismatch), \".\", label=\"Mode loss\")\n",
    "plt.plot(radii, propagation_loss, \".\", label=\"Propagation loss\")\n",
    "plt.plot(radii, propagation_loss-10 * np.log10(mismatch), \".\", label=\"Total loss\")\n",
    "plt.xlabel(\"Bend radius (um)\")\n",
    "plt.ylabel(\"Loss (dB)\")\n",
    "plt.legend()"
   ]
  }
 ],
 "metadata": {
  "kernelspec": {
   "display_name": "pdk_UPVfab_v2",
   "language": "python",
   "name": "python3"
  },
  "language_info": {
   "codemirror_mode": {
    "name": "ipython",
    "version": 3
   },
   "file_extension": ".py",
   "mimetype": "text/x-python",
   "name": "python",
   "nbconvert_exporter": "python",
   "pygments_lexer": "ipython3",
   "version": "3.12.9"
  }
 },
 "nbformat": 4,
 "nbformat_minor": 2
}
