{
 "cells": [
  {
   "cell_type": "markdown",
   "metadata": {},
   "source": [
    "![PIC UPV PERTE Chip Chair Logo](https://www.pic-chair.upv.es/wp-content/uploads/2024/05/logo-upv-horizontal.png)\n",
    "![PIC UPV PERTE Chip Chair Logo](https://www.pic-chair.upv.es/wp-content/uploads/2024/06/logos-perte-chip-1024x119.png)\n",
    "\n",
    "# Laboratory 4. Layout"
   ]
  },
  {
   "cell_type": "code",
   "execution_count": null,
   "metadata": {},
   "outputs": [],
   "source": [
    "import gdsfactory as gf"
   ]
  },
  {
   "cell_type": "markdown",
   "metadata": {},
   "source": [
    "## 1. Technology\n",
    "\n",
    "We will work with the **UPVfab PDK**. (There are some other open-source PDKs, in other technologies, feel free to search if interested)"
   ]
  },
  {
   "cell_type": "code",
   "execution_count": null,
   "metadata": {},
   "outputs": [],
   "source": [
    "from upvfab.sin300.cband import PDK, cells"
   ]
  },
  {
   "cell_type": "markdown",
   "metadata": {},
   "source": [
    "Let's view the layer distribution of this PDK. In our case, for the passive devices we will only use the **Layer 1**. "
   ]
  },
  {
   "cell_type": "code",
   "execution_count": null,
   "metadata": {},
   "outputs": [],
   "source": [
    "LAYER_VIEWS = PDK.layer_views\n",
    "c = LAYER_VIEWS.preview_layerset()\n",
    "c.show()\n",
    "c.plot()\n"
   ]
  },
  {
   "cell_type": "markdown",
   "metadata": {},
   "source": [
    "The new versions of GDS Factory allow to view the Layer Stack also (3D view of the fabrication flow). The following code allows to generate and view the Layer Stack of the generic PDK. Reference: https://www.degruyter.com/document/doi/10.1515/nanoph-2013-0034/html\n",
    "\n",
    "The layers and the thicknesses have been defined previously on the PDK, so it is possible to view in 3D some of the components in the PDK. \n",
    "\n",
    "See the [Reference Manual](https://gdsfactory.github.io/gdsfactory/components.html) and read the list of the available components.\n",
    "\n",
    "Here are some examples of the 3D views of this photonic components"
   ]
  },
  {
   "cell_type": "code",
   "execution_count": null,
   "metadata": {},
   "outputs": [],
   "source": [
    "xs = gf.cross_section.strip(width=0.5, layer = 'WG')\n",
    "\n",
    "c = gf.components.straight(length=10, cross_section=xs)  #Deep \n",
    "c.plot() # To view the component on Notebook\n",
    "c.show() # To view on KLayout\n",
    "scene = c.to_3d()\n",
    "scene.show()\n"
   ]
  },
  {
   "cell_type": "code",
   "execution_count": null,
   "metadata": {},
   "outputs": [],
   "source": [
    "c = gf.components.straight(length=5, cross_section='rib') #Shallow\n",
    "c.plot()\n",
    "c.show()\n",
    "\n",
    "scene = c.to_3d()\n",
    "c.show()\n",
    "scene.show()"
   ]
  },
  {
   "cell_type": "code",
   "execution_count": null,
   "metadata": {},
   "outputs": [],
   "source": [
    "c = cells.taper_strip_to_ridge(length=10) #Taper\n",
    "c.show()\n",
    "\n",
    "scene = c.to_3d()\n",
    "scene.show()"
   ]
  },
  {
   "cell_type": "code",
   "execution_count": null,
   "metadata": {},
   "outputs": [],
   "source": [
    "c = cells.straight_heater_metal()\n",
    "\n",
    "#c.pprint_ports()\n",
    "\n",
    "c.plot()\n",
    "c.show()\n",
    "#c.draw_ports()\n",
    "\n",
    "scene = c.to_3d()\n",
    "scene.show()"
   ]
  },
  {
   "cell_type": "markdown",
   "metadata": {},
   "source": [
    "## 2. Layout Fundamentals\n",
    "\n",
    "A cell is a function that returns a Component. In GDS each component must have a unique name. Two components stored in the GDS file cannot have the same name. They need to be references (instances) of the same component.\n",
    "\n",
    "![GDSFactoryComponents][def]\n",
    "\n",
    "\n",
    "[def]: https://i.imgur.com/oeuKGsc.png"
   ]
  },
  {
   "cell_type": "code",
   "execution_count": null,
   "metadata": {},
   "outputs": [],
   "source": [
    "c = gf.Component()\n",
    "c.plot()\n",
    "c.show()"
   ]
  },
  {
   "cell_type": "markdown",
   "metadata": {},
   "source": [
    "Let's build a Component from scratch. A die (chip) for a photonic layout. The PDK or Design Manual should specify the Layer for the bounding box (dicing line). \n",
    "We should also consider: \n",
    "1. The die dimensions and \n",
    "2. The border for dicing "
   ]
  },
  {
   "cell_type": "code",
   "execution_count": null,
   "metadata": {},
   "outputs": [],
   "source": [
    "wgw = 0.5\n",
    "dieL = 5000\n",
    "dieW = 5000\n",
    "border = 125\n",
    "layer_wg = \"WG\"\n",
    "layer_box = \"FLOORPLAN\"\n",
    "\n",
    "# Die specifications (Chip)\n",
    "box = gf.Component()\n",
    "\n",
    "obox = box.add_ref(gf.components.rectangle(size=(dieW,dieL),layer=layer_box))\n",
    "ibox = box.add_ref(gf.components.rectangle(size=(dieW-border*2,dieL-border*2),layer=layer_box)).dmovex(border).dmovey(border)\n",
    "box = gf.boolean(A=obox, B=ibox, operation=\"A-B\", layer=\"FLOORPLAN\")\n",
    "\n",
    "# Adding ports to a component \n",
    "box.add_port(name=\"block@org\", center=[border,border], width=1, orientation=0, layer=layer_box)\n",
    "\n",
    "box.draw_ports()\n",
    "box.show()\n",
    "box.plot()"
   ]
  },
  {
   "cell_type": "markdown",
   "metadata": {},
   "source": [
    "### Mantra: \n",
    "Once that we have a working 'new' component, we shall convert it into a Cell. This will allow us to have a hierarchical design"
   ]
  },
  {
   "cell_type": "code",
   "execution_count": null,
   "metadata": {},
   "outputs": [],
   "source": [
    "# 1. We define the cell as a function with it's corresponding parameters (and defaults)\n",
    "gf.clear_cache()\n",
    "\n",
    "@gf.cell\n",
    "def die(dieL = 5000, dieW = 5000, border = 250, layer_box = \"FLOORPLAN\"):\n",
    "    # Die specifications (Chip)\n",
    "    box = gf.Component()\n",
    "    obox = box.add_ref(gf.components.rectangle(size=(dieW,dieL),layer=layer_box))\n",
    "    ibox = box.add_ref(gf.components.rectangle(size=(dieW-border*2,dieL-border*2),layer=layer_box)).dmovex(border).dmovey(border)\n",
    "    box = gf.boolean(A=obox, B=ibox, operation=\"A-B\", layer=layer_box)\n",
    "    # Adding ports to a component \n",
    "    box.add_port(name=\"block@org\", center=[border,border], width=1, orientation=0, layer=layer_box)\n",
    "    box.draw_ports()\n",
    "    return box\n",
    "\n",
    "# 2. We instantiate references of each cell. We can also name it individually to avoid problems\n",
    "wafer = gf.Component()\n",
    "dieW1 = 5000\n",
    "dieW2 = 10000\n",
    "\n",
    "c1 = wafer.add_ref(die(dieW = dieW))\n",
    "c2 = wafer.add_ref(die(dieW = dieW))\n",
    "c3 = wafer.add_ref(die(dieW = 12000))\n",
    "\n",
    "c2.dmovex(dieW1)\n",
    "c3.dmovey(-5000)\n",
    "wafer.show()\n",
    "wafer.plot()\n"
   ]
  },
  {
   "cell_type": "markdown",
   "metadata": {},
   "source": [
    "## 3. Complete Layout"
   ]
  },
  {
   "cell_type": "code",
   "execution_count": null,
   "metadata": {},
   "outputs": [],
   "source": [
    "layer_wg  = \"WG\"\n",
    "minrad = 50\n",
    "dieW = 5000\n",
    "\n",
    "main = gf.Component()\n",
    "\n",
    "die_ref = main.add_ref(die(dieW = dieW, layer_box=\"FLOORPLAN\"))\n",
    "\n",
    "## Add first a test MMI routed from side to side\n",
    "c_mmi = cells.mmi1x2()\n",
    "mmi = main.add_ref(c_mmi)\n",
    "mmi.dmovex(die_ref[\"block@org\"].dx + 0.5*dieW).dmovey(die_ref['block@org'].dy + 150)\n",
    "\n",
    "## Route waveguides from MMI to the die edges\n",
    "xs = 'strip'\n",
    "### First add the i/o waveguides - to be sure you 'cut' on a straight section\n",
    "strin = (main.add_ref(gf.components.straight(length=500, cross_section='strip')).dmovex(0).dmovey(mmi['o1'].dy))\n",
    "strout1 = (main.add_ref(gf.components.straight(length=500, cross_section=xs)).drotate(180).dmovey(mmi.ports['o3'].dy-100).dmovex(dieW))\n",
    "strout2 = (main.add_ref(gf.components.straight(length=500, cross_section=xs)).drotate(180).dmovey(mmi.ports['o2'].dy+100).dmovex(dieW))\n",
    "### Then route from the i/o waveguides to the MMI\n",
    "gf.routing.route_single_sbend(main,port1=strin['o2'], port2=mmi['o1'], cross_section=xs)\n",
    "gf.routing.route_single_sbend(main,port1=mmi['o2'], port2=strout2['o2'], cross_section=xs)\n",
    "gf.routing.route_single_sbend(main,port1=mmi['o3'], port2=strout1['o2'], cross_section=xs)\n",
    "\n",
    "main.plot()\n",
    "main.show()"
   ]
  },
  {
   "cell_type": "code",
   "execution_count": null,
   "metadata": {},
   "outputs": [],
   "source": [
    "# Let's create a MMI tree\n",
    "\n",
    "c = gf.Component()\n",
    "c_mmi = cells.mmi1x2()\n",
    "...\n",
    "c.plot()"
   ]
  },
  {
   "cell_type": "code",
   "execution_count": null,
   "metadata": {},
   "outputs": [],
   "source": [
    "# Once we \"test\" the high-level component, we can create a cell for it\n",
    "@gf.cell \n",
    "def mmi_tree_1x4(pad_x = 250 ,pad_y = 250):\n",
    "    c = gf.Component()\n",
    "    c_mmi = cells.mmi1x2()\n",
    "    mmi1 = c.add_ref(c_mmi)\n",
    "    mmi2 = c.add_ref(c_mmi)\n",
    "    mmi3 = c.add_ref(c_mmi)\n",
    "\n",
    "    mmi2.dmovex(pad_x).dmovey(pad_y)\n",
    "    mmi3.dmovex(pad_x).dmovey(-pad_y)\n",
    "\n",
    "    gf.routing.route_single_sbend(component=c, port1= mmi1['o2'], port2=mmi2['o1'],cross_section='strip')\n",
    "    gf.routing.route_single_sbend(component=c, port1= mmi1['o3'], port2=mmi3['o1'],cross_section='strip')\n",
    "    c.add_port(name='o1', port=mmi1['o1'])\n",
    "    c.add_port(name='o2', port=mmi2['o2'])\n",
    "    c.add_port(name='o3', port=mmi2['o3'])\n",
    "    c.add_port(name='o4', port=mmi3['o2'])\n",
    "    c.add_port(name='o5', port=mmi3['o3'])\n",
    "    c.draw_ports()\n",
    "    return c"
   ]
  },
  {
   "cell_type": "code",
   "execution_count": null,
   "metadata": {},
   "outputs": [],
   "source": [
    "# With the cell created, we can instantiate and use it in our main component\n",
    "\n",
    "cell_1x4 = main.add_ref(mmi_tree_1x4())\n",
    "main.plot()\n"
   ]
  },
  {
   "cell_type": "code",
   "execution_count": null,
   "metadata": {},
   "outputs": [],
   "source": [
    "## Arrayed waveguides and MMI tree\n",
    "\n",
    "sp = 200\n",
    "border = 250\n",
    "\n",
    "in_arr = main.add_ref(\n",
    "    gf.components.straight_array(n=4, spacing=sp, length=border, cross_section=xs)\n",
    ").dmovey(\n",
    "    1000\n",
    ")  #!!!!!! Easy to put IO Waveguides for a complete design !!!!\n",
    "\n",
    "out_arr = (\n",
    "    main.add_ref(\n",
    "        gf.components.straight_array(n=4, spacing=sp, length=border, cross_section=xs)\n",
    "    )\n",
    "    .dmovex(dieW - border)\n",
    "    .dmovey(1000)\n",
    ")\n",
    "\n",
    "cell_1x4.dmovex(0.5*dieW - mmi_tree_1x4().dxsize).dmovey(in_arr['o6'].dy)\n",
    "gf.routing.route_single_sbend(component=main, port1=in_arr['o6'], port2=cell_1x4['o1'])\n",
    "gf.routing.route_single_sbend(component=main, port1=cell_1x4['o2'], port2=out_arr['o4'])\n",
    "gf.routing.route_single_sbend(component=main, port1=cell_1x4['o3'], port2=out_arr['o3'])\n",
    "gf.routing.route_single_sbend(component=main, port1=cell_1x4['o4'], port2=out_arr['o2'])\n",
    "gf.routing.route_single_sbend(component=main, port1=cell_1x4['o5'], port2=out_arr['o1'])\n",
    "main.plot()\n",
    "main.show()"
   ]
  },
  {
   "cell_type": "markdown",
   "metadata": {},
   "source": [
    "### Mantra:\n",
    "It's useful to use memorize this mantra: \n",
    "- Add_references \n",
    "- Connect_them\n",
    "- Move_them"
   ]
  },
  {
   "cell_type": "markdown",
   "metadata": {},
   "source": [
    "### Other Routing options examples:"
   ]
  },
  {
   "cell_type": "markdown",
   "metadata": {},
   "source": [
    "Please check the GDSFactory Routing API for more information about advanced routing functionalities\n",
    "\n",
    "[Routing API](https://gdsfactory.github.io/gdsfactory/api_routing.html) "
   ]
  },
  {
   "cell_type": "markdown",
   "metadata": {},
   "source": [
    "## 4. Exercise. \n",
    "\n",
    "- Now, add another MMI Tree, but in this case, with three levels. \n",
    "- You **must** define a PCell to define this structure\n",
    "- Add two instances of your new parametric cell varying any parameter such as the pad on x or y, etc\n",
    "- Connect the MMIs with output waveguides at the right side of the die. "
   ]
  }
 ],
 "metadata": {
  "kernelspec": {
   "display_name": "pdk_UPVfab_v2",
   "language": "python",
   "name": "python3"
  },
  "language_info": {
   "codemirror_mode": {
    "name": "ipython",
    "version": 3
   },
   "file_extension": ".py",
   "mimetype": "text/x-python",
   "name": "python",
   "nbconvert_exporter": "python",
   "pygments_lexer": "ipython3",
   "version": "3.12.9"
  }
 },
 "nbformat": 4,
 "nbformat_minor": 2
}
