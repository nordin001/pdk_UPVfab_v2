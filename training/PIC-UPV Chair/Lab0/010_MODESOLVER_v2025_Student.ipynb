{
 "cells": [
  {
   "cell_type": "markdown",
   "metadata": {},
   "source": [
    "![PIC UPV PERTE Chip Chair Logo](https://www.pic-chair.upv.es/wp-content/uploads/2024/05/logo-upv-horizontal.png)\n",
    "![PIC UPV PERTE Chip Chair Logo](https://www.pic-chair.upv.es/wp-content/uploads/2024/06/logos-perte-chip-1024x119.png)\n",
    "\n",
    "\n",
    "# Laboratory 0.1. ModeSolver"
   ]
  },
  {
   "cell_type": "markdown",
   "metadata": {},
   "source": [
    "Welcome to our Design Laboratory! Throughout the course, we will be using a Python package called [GDSFactory+](https://gdsfactory.github.io/gdsfactory/index.html). This is a premium version of the the open-source tool GDSFactory, and is a great alternative to other commercial software like Synopsys Optodesigner, Luceda Photonics, or Lumerical/Interconnect. Since it runs on Python, you have two options for executing your laboratory tasks:\n",
    "\n",
    "1. **Local installation on your own PC** (Recommended): Please note that we will not spend class time on installing the software. However, feel free to reach out if you need help with the installation.\n",
    "\n",
    "2. **Cloud Workspace**: Alternatively, you can use a cloud-based solution if the Local installation does not work."
   ]
  },
  {
   "cell_type": "markdown",
   "metadata": {},
   "source": [
    "## 0. Imports"
   ]
  },
  {
   "cell_type": "code",
   "execution_count": null,
   "metadata": {},
   "outputs": [],
   "source": [
    "import matplotlib.pyplot as plt\n",
    "import numpy as np\n",
    "\n",
    "import tidy3d as td\n",
    "\n",
    "import gplugins as gp\n",
    "import gplugins.tidy3d as gt\n",
    "from gplugins import plot\n",
    "from gplugins.common.config import PATH\n",
    "\n",
    "nm = 1e-3\n",
    "wavelength = np.linspace(1500, 1600,11) * nm\n",
    "f = td.C_0 / wavelength"
   ]
  },
  {
   "cell_type": "markdown",
   "metadata": {},
   "source": [
    "## LO.1. Effective index of a waveguide\n",
    "\n",
    "### 1.1. Materials\n",
    "\n",
    "We need the refractive index of each material in the cross-section. There are different options to get this information, such as [RefractiveIndex.info](https://refractiveindex.info/) and the [Material Library from Tidy3D](https://docs.flexcompute.com/projects/tidy3d/en/v2.6.0/api/material_library.html#). Here we will load and check the characteristics from the most common materials used in fabrication of photonic circuits."
   ]
  },
  {
   "cell_type": "markdown",
   "metadata": {},
   "source": [
    "#### 1.1.1. Crystalline Silicon "
   ]
  },
  {
   "cell_type": "code",
   "execution_count": null,
   "metadata": {},
   "outputs": [],
   "source": [
    "## Material model loaded\n",
    "si_complex = td.material_library[\"cSi\"][\"Li1993_293K\"].eps_model(f)\n",
    "## Check the Tidy3D Docs for more information on the \"Variant\"\n",
    "\n",
    "## Index at a particular wavelength\n",
    "si_index , si_k = td.Medium.eps_complex_to_nk(si_complex)\n",
    "plt.scatter(wavelength, si_index,edgecolors='k',facecolors='none')\n",
    "plt.plot(wavelength,si_index)\n",
    "plt.title(\"Silicon refractive index\")\n",
    "plt.xlabel(\"Wavelength (um)\")\n",
    "plt.ylabel(\"n\")\n",
    "plt.grid()"
   ]
  },
  {
   "cell_type": "markdown",
   "metadata": {},
   "source": [
    "#### 1.1.2. Silicon Nitride"
   ]
  },
  {
   "cell_type": "code",
   "execution_count": null,
   "metadata": {},
   "outputs": [],
   "source": [
    "nitride_complex = td.material_library[\"Si3N4\"][\"Luke2015PMLStable\"].eps_model(f)\n",
    "nitride_index, nitride_k = td.Medium.eps_complex_to_nk(nitride_complex)\n",
    "plt.scatter(wavelength,nitride_index,edgecolors='k',facecolors='none')\n",
    "plt.plot(wavelength, nitride_index)\n",
    "plt.title(\"Silicon nitride refractive index\")\n",
    "plt.xlabel(\"Wavelength (um)\")\n",
    "plt.ylabel(\"n\")\n",
    "plt.grid()\n"
   ]
  },
  {
   "cell_type": "markdown",
   "metadata": {},
   "source": [
    "#### 1.1.3. Silicon Dioxide"
   ]
  },
  {
   "cell_type": "code",
   "execution_count": null,
   "metadata": {},
   "outputs": [],
   "source": [
    "box_complex = td.material_library[\"SiO2\"][\"Horiba\"].eps_model(f)\n",
    "box_index, box_k = td.Medium.eps_complex_to_nk(box_complex)\n",
    "plt.scatter(wavelength,box_index,edgecolors='k',facecolors='None')\n",
    "plt.plot(wavelength, box_index)\n",
    "plt.title(\"SiO2 refractive index\")\n",
    "plt.xlabel(\"Wavelength (um)\")\n",
    "plt.ylabel(\"n\")\n",
    "plt.grid()"
   ]
  },
  {
   "cell_type": "markdown",
   "metadata": {},
   "source": [
    "### 1.2. Cross - Section Definition\n",
    "\n",
    "In GDSFactory - Tidy3d modesolver we just have to use the [gt.modes.Waveguide()](https://gdsfactory.github.io/gplugins/_autosummary/gplugins.tidy3d.modes.Waveguide.html) function. It implements the deep (rib) and shallow (ridge) waveguides. "
   ]
  },
  {
   "cell_type": "code",
   "execution_count": null,
   "metadata": {},
   "outputs": [],
   "source": [
    "deep_waveguide = gt.modes.Waveguide(\n",
    "    # Geometrical Parameters\n",
    "    core_width=1.2, # Waveguide width\n",
    "    core_thickness=300 * nm, # Waveguide height \n",
    "    slab_thickness=0 * nm, # For shallow waveguides - Set to 0 if its a deep-etched waveguide.\n",
    "    # Materials\n",
    "    core_material='sin', #  Material of the waveguide\n",
    "    clad_material='sio2', # Surrounding material\n",
    "    # Modesolver Parameters\n",
    "    wavelength=1550 * nm, # Wavelength to simulate\n",
    "    num_modes=4, # Targeted number of modes to find \n",
    "    max_grid_scaling=1.5, # Parameters of the grid\n",
    "    grid_resolution=20, # Parameters of the grid\n",
    "    cache_path='.cache/', # Important! In order to save simulation time, set your cache Path!\n",
    "    precision='double',\n",
    ")\n",
    "\n",
    "deep_waveguide.plot_index()"
   ]
  },
  {
   "cell_type": "markdown",
   "metadata": {},
   "source": [
    "### 1.3. Simulations\n",
    "\n",
    "#### 1.3.1. Numerical results\n",
    "\n",
    "We can find the effective index (n_eff), TE and TM fraction for each particular cross-section."
   ]
  },
  {
   "cell_type": "code",
   "execution_count": null,
   "metadata": {},
   "outputs": [],
   "source": [
    "deep_waveguide.n_eff"
   ]
  },
  {
   "cell_type": "code",
   "execution_count": null,
   "metadata": {},
   "outputs": [],
   "source": [
    "deep_waveguide.fraction_te"
   ]
  },
  {
   "cell_type": "code",
   "execution_count": null,
   "metadata": {},
   "outputs": [],
   "source": [
    "deep_waveguide.fraction_tm"
   ]
  },
  {
   "cell_type": "markdown",
   "metadata": {},
   "source": [
    "#### 1.3.4. Plots"
   ]
  },
  {
   "cell_type": "code",
   "execution_count": null,
   "metadata": {},
   "outputs": [],
   "source": [
    "deep_waveguide.plot_field(mode_index=0 , # Mode to be plotted\n",
    "                          field_name='Ex', # Field to be plotted\n",
    "                          value='real', # Real - abs - imag\n",
    "                            cmap='coolwarm', # Suggestions: Change the plot color\n",
    "                          xlim=(-1.5, 1.5), # Set the x and y limits\n",
    "                          ylim=(-0.7, 1)\n",
    ") # \n",
    "plt.title('Titulo') # You might need this later :) "
   ]
  },
  {
   "cell_type": "code",
   "execution_count": null,
   "metadata": {},
   "outputs": [],
   "source": [
    "deep_waveguide.plot_field(mode_index=1 , # Mode to be plotted\n",
    "                          field_name='Ey', # Field to be plotted\n",
    "                          value='real', # Real - abs - imag\n",
    "                          cmap='coolwarm', # Suggestions: Change the plot color\n",
    "                          xlim=(-1.5, 1.5), # Set the x and y limits\n",
    "                          ylim=(-0.7, 1)) # "
   ]
  },
  {
   "cell_type": "code",
   "execution_count": null,
   "metadata": {},
   "outputs": [],
   "source": [
    "deep_waveguide.plot_field(mode_index=2 , # Mode to be plotted\n",
    "                          field_name='Ex', # Field to be plotted\n",
    "                          value='real', # Real - abs - imag\n",
    "                          cmap='coolwarm', # Suggestions: Change the plot color\n",
    "                          xlim=(-1.5, 1.5), # Set the x and y limits\n",
    "                          ylim=(-0.7, 1)) # "
   ]
  },
  {
   "cell_type": "code",
   "execution_count": null,
   "metadata": {},
   "outputs": [],
   "source": [
    "deep_waveguide.plot_field(mode_index=3, # Mode to be plotted\n",
    "                          field_name='Ey', # Field to be plotted\n",
    "                          value='real', # Real - abs - imag\n",
    "                          cmap='coolwarm', # Suggestions: Change the plot color\n",
    "                          xlim=(-1.5, 1.5), # Set the x and y limits\n",
    "                          ylim=(-0.7, 1)) # "
   ]
  },
  {
   "cell_type": "markdown",
   "metadata": {},
   "source": [
    "**Important** \n",
    "These results are derived from a numerical method used to solve the EM problem, so they must always be interpreted carefully to assess their accuracy. You must check, for instance, if the value of each index neff is higher than the refractive index of the cladding. "
   ]
  },
  {
   "cell_type": "markdown",
   "metadata": {},
   "source": [
    "## LO.2. Wavelength behavior"
   ]
  },
  {
   "cell_type": "code",
   "execution_count": null,
   "metadata": {},
   "outputs": [],
   "source": [
    "# The wavelength could be a vector also\n",
    "wavelength = ... # Student code here. Tip np.linspace()\n",
    "\n",
    "deep_waveguide = gt.modes.Waveguide(\n",
    "    wavelength=wavelength, \n",
    "    core_width=1.2, \n",
    "    slab_thickness=0.0,\n",
    "    core_material='sin',\n",
    "    clad_material='sio2',\n",
    "    core_thickness=300 * nm,\n",
    "    num_modes=4,\n",
    "    cache_path='.cache/',\n",
    "    precision='double',\n",
    "    max_grid_scaling=1.2,\n",
    "    grid_resolution=20, \n",
    ")\n",
    "\n",
    "res_neff = deep_waveguide.n_eff # In this case, the result is not just a number, is a wavelength-dependent vector\n",
    "res_te = deep_waveguide.fraction_te # Wavelength-dependent vector\n",
    "res_tm =deep_waveguide.fraction_tm # Wavelength-dependent vector\n",
    "\n",
    "plt.figure(figsize=(10, 5))\n",
    "for k in range(res_neff.shape[1]):\n",
    "    # It's necessary to 'access' each element on the array\n",
    "    plt.scatter(wavelength, res_neff[:,k].real,edgecolors='k',facecolors='none',label = '__nolegend__')\n",
    "    plt.plot(wavelength, res_neff[:,k].real,label=f'Mode {k}')\n",
    "plt.title(f\"Deep waveguide width={1.2}\")\n",
    "plt.xlabel(\"Wavelength (um)\")\n",
    "plt.ylabel(\"neff\")\n",
    "plt.grid()\n",
    "plt.plot(wavelength, box_index,'k--', label='SiO2 index')\n",
    "plt.legend(loc='upper left', bbox_to_anchor=(1, 1))\n",
    "plt.tight_layout(rect=[0, 0, 0.85, 1])"
   ]
  },
  {
   "cell_type": "markdown",
   "metadata": {},
   "source": [
    "## LO.3. Width dependence"
   ]
  },
  {
   "cell_type": "code",
   "execution_count": null,
   "metadata": {},
   "outputs": [],
   "source": [
    "wavelength = ... # Student code here\n",
    "\n",
    "deep_waveguide = gt.modes.Waveguide(\n",
    "    wavelength=wavelength,\n",
    "    core_width=1.2,\n",
    "    slab_thickness=0.0,\n",
    "    core_material='sin',\n",
    "    clad_material='sio2',\n",
    "    core_thickness=300 * nm,\n",
    "    num_modes=4,\n",
    "    cache_path='.cache/',\n",
    "    precision='double',\n",
    "    max_grid_scaling=1.2,\n",
    "    grid_resolution=20, \n",
    ")\n",
    "\n",
    "w = ... # Student code here\n",
    "\n",
    "sweep_neff = gt.modes.sweep_n_eff(deep_waveguide, \n",
    "                             core_width=w)\n",
    "\n",
    "sweep_tefraction = gt.modes.sweep_fraction_te(deep_waveguide,\n",
    "                                              core_width=w)\n",
    "\n",
    "plt.figure(figsize=(10, 5))\n",
    "for k in range(sweep_neff.shape[1]):\n",
    "    plt.scatter(w, sweep_neff[:,k].real,edgecolors='k',c=sweep_tefraction.sel(mode_index=k),vmin=0, vmax=1,label = '__nolegend__',cmap='bwr')\n",
    "    plt.plot(w, sweep_neff[:,k].real,label=f'Mode {k}')\n",
    "\n",
    "plt.title(\"Deep waveguide width sweep - 1550nm\")\n",
    "plt.xlabel(\"Width (um)\")\n",
    "plt.ylabel(\"neff\")\n",
    "plt.grid()\n",
    "plt.hlines(np.mean(box_index), xmin=np.min(w), xmax=np.max(w), colors='k', linestyles='dashed',label='SiO2 index')\n",
    "plt.legend(loc='upper left', bbox_to_anchor=(1, 1))\n",
    "plt.tight_layout(rect=[0, 0, 0.85, 1])\n",
    "plt.colorbar(orientation='horizontal',fraction=0.04).set_label(\"TE fraction\")"
   ]
  }
 ],
 "metadata": {
  "kernelspec": {
   "display_name": "pdk_UPVfab_v2",
   "language": "python",
   "name": "python3"
  },
  "language_info": {
   "codemirror_mode": {
    "name": "ipython",
    "version": 3
   },
   "file_extension": ".py",
   "mimetype": "text/x-python",
   "name": "python",
   "nbconvert_exporter": "python",
   "pygments_lexer": "ipython3",
   "version": "3.12.9"
  }
 },
 "nbformat": 4,
 "nbformat_minor": 2
}
